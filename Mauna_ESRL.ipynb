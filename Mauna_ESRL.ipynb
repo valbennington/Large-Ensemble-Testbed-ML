{
 "cells": [
  {
   "cell_type": "markdown",
   "id": "22f601bf-ae1c-44db-ad8b-8424e38d14e5",
   "metadata": {},
   "source": [
    "# Use Mauna Loa xCO2 to Estimate global xCO2"
   ]
  },
  {
   "cell_type": "code",
   "execution_count": 52,
   "id": "e7405b7b-4ab4-4b4e-a32e-e2f401d5abfa",
   "metadata": {},
   "outputs": [],
   "source": [
    "import os\n",
    "import datetime\n",
    "import numpy as np\n",
    "import xarray as xr\n",
    "import pandas as pd\n",
    "\n",
    "import matplotlib.pyplot as plt"
   ]
  },
  {
   "cell_type": "code",
   "execution_count": 3,
   "id": "6ebdf7e5-82e9-40cd-89e7-1f5c64cd2584",
   "metadata": {},
   "outputs": [],
   "source": [
    "mauna = pd.read_csv('/data/artemis/observations/ESRL/Mauna_Loa_xCO2.csv',header=1)"
   ]
  },
  {
   "cell_type": "code",
   "execution_count": 4,
   "id": "3cceb965-1756-4e1c-be8b-eb9b87bcd392",
   "metadata": {},
   "outputs": [
    {
     "data": {
      "text/html": [
       "<div>\n",
       "<style scoped>\n",
       "    .dataframe tbody tr th:only-of-type {\n",
       "        vertical-align: middle;\n",
       "    }\n",
       "\n",
       "    .dataframe tbody tr th {\n",
       "        vertical-align: top;\n",
       "    }\n",
       "\n",
       "    .dataframe thead th {\n",
       "        text-align: right;\n",
       "    }\n",
       "</style>\n",
       "<table border=\"1\" class=\"dataframe\">\n",
       "  <thead>\n",
       "    <tr style=\"text-align: right;\">\n",
       "      <th></th>\n",
       "      <th>year</th>\n",
       "      <th>month</th>\n",
       "      <th>mean</th>\n",
       "      <th>deseasonalized</th>\n",
       "      <th>Unnamed: 4</th>\n",
       "      <th>Unnamed: 5</th>\n",
       "      <th>Unnamed: 6</th>\n",
       "    </tr>\n",
       "  </thead>\n",
       "  <tbody>\n",
       "    <tr>\n",
       "      <th>0</th>\n",
       "      <td>1958</td>\n",
       "      <td>3</td>\n",
       "      <td>315.70</td>\n",
       "      <td>314.43</td>\n",
       "      <td>NaN</td>\n",
       "      <td>NaN</td>\n",
       "      <td>NaN</td>\n",
       "    </tr>\n",
       "    <tr>\n",
       "      <th>1</th>\n",
       "      <td>1958</td>\n",
       "      <td>4</td>\n",
       "      <td>317.45</td>\n",
       "      <td>315.16</td>\n",
       "      <td>NaN</td>\n",
       "      <td>NaN</td>\n",
       "      <td>NaN</td>\n",
       "    </tr>\n",
       "    <tr>\n",
       "      <th>2</th>\n",
       "      <td>1958</td>\n",
       "      <td>5</td>\n",
       "      <td>317.51</td>\n",
       "      <td>314.71</td>\n",
       "      <td>NaN</td>\n",
       "      <td>NaN</td>\n",
       "      <td>NaN</td>\n",
       "    </tr>\n",
       "    <tr>\n",
       "      <th>3</th>\n",
       "      <td>1958</td>\n",
       "      <td>6</td>\n",
       "      <td>317.24</td>\n",
       "      <td>315.14</td>\n",
       "      <td>NaN</td>\n",
       "      <td>NaN</td>\n",
       "      <td>NaN</td>\n",
       "    </tr>\n",
       "    <tr>\n",
       "      <th>4</th>\n",
       "      <td>1958</td>\n",
       "      <td>7</td>\n",
       "      <td>315.86</td>\n",
       "      <td>315.18</td>\n",
       "      <td>NaN</td>\n",
       "      <td>NaN</td>\n",
       "      <td>NaN</td>\n",
       "    </tr>\n",
       "  </tbody>\n",
       "</table>\n",
       "</div>"
      ],
      "text/plain": [
       "   year  month    mean  deseasonalized  Unnamed: 4  Unnamed: 5  Unnamed: 6\n",
       "0  1958      3  315.70          314.43         NaN         NaN         NaN\n",
       "1  1958      4  317.45          315.16         NaN         NaN         NaN\n",
       "2  1958      5  317.51          314.71         NaN         NaN         NaN\n",
       "3  1958      6  317.24          315.14         NaN         NaN         NaN\n",
       "4  1958      7  315.86          315.18         NaN         NaN         NaN"
      ]
     },
     "execution_count": 4,
     "metadata": {},
     "output_type": "execute_result"
    }
   ],
   "source": [
    "mauna.head()"
   ]
  },
  {
   "cell_type": "code",
   "execution_count": 5,
   "id": "461ad436-aabd-4944-8e94-e0bc40024f0b",
   "metadata": {},
   "outputs": [
    {
     "data": {
      "text/html": [
       "<div>\n",
       "<style scoped>\n",
       "    .dataframe tbody tr th:only-of-type {\n",
       "        vertical-align: middle;\n",
       "    }\n",
       "\n",
       "    .dataframe tbody tr th {\n",
       "        vertical-align: top;\n",
       "    }\n",
       "\n",
       "    .dataframe thead th {\n",
       "        text-align: right;\n",
       "    }\n",
       "</style>\n",
       "<table border=\"1\" class=\"dataframe\">\n",
       "  <thead>\n",
       "    <tr style=\"text-align: right;\">\n",
       "      <th></th>\n",
       "      <th>year</th>\n",
       "      <th>Month</th>\n",
       "      <th>xCO2</th>\n",
       "      <th>Unnamed: 3</th>\n",
       "      <th>Unnamed: 4</th>\n",
       "      <th>Unnamed: 5</th>\n",
       "      <th>Unnamed: 6</th>\n",
       "    </tr>\n",
       "  </thead>\n",
       "  <tbody>\n",
       "    <tr>\n",
       "      <th>0</th>\n",
       "      <td>1980</td>\n",
       "      <td>1</td>\n",
       "      <td>338.55</td>\n",
       "      <td>NaN</td>\n",
       "      <td>NaN</td>\n",
       "      <td>NaN</td>\n",
       "      <td>NaN</td>\n",
       "    </tr>\n",
       "    <tr>\n",
       "      <th>1</th>\n",
       "      <td>1980</td>\n",
       "      <td>2</td>\n",
       "      <td>339.27</td>\n",
       "      <td>NaN</td>\n",
       "      <td>NaN</td>\n",
       "      <td>NaN</td>\n",
       "      <td>NaN</td>\n",
       "    </tr>\n",
       "    <tr>\n",
       "      <th>2</th>\n",
       "      <td>1980</td>\n",
       "      <td>3</td>\n",
       "      <td>339.60</td>\n",
       "      <td>NaN</td>\n",
       "      <td>NaN</td>\n",
       "      <td>NaN</td>\n",
       "      <td>NaN</td>\n",
       "    </tr>\n",
       "    <tr>\n",
       "      <th>3</th>\n",
       "      <td>1980</td>\n",
       "      <td>4</td>\n",
       "      <td>340.00</td>\n",
       "      <td>NaN</td>\n",
       "      <td>NaN</td>\n",
       "      <td>NaN</td>\n",
       "      <td>NaN</td>\n",
       "    </tr>\n",
       "    <tr>\n",
       "      <th>4</th>\n",
       "      <td>1980</td>\n",
       "      <td>5</td>\n",
       "      <td>340.43</td>\n",
       "      <td>NaN</td>\n",
       "      <td>NaN</td>\n",
       "      <td>NaN</td>\n",
       "      <td>NaN</td>\n",
       "    </tr>\n",
       "  </tbody>\n",
       "</table>\n",
       "</div>"
      ],
      "text/plain": [
       "   year  Month    xCO2  Unnamed: 3  Unnamed: 4  Unnamed: 5  Unnamed: 6\n",
       "0  1980      1  338.55         NaN         NaN         NaN         NaN\n",
       "1  1980      2  339.27         NaN         NaN         NaN         NaN\n",
       "2  1980      3  339.60         NaN         NaN         NaN         NaN\n",
       "3  1980      4  340.00         NaN         NaN         NaN         NaN\n",
       "4  1980      5  340.43         NaN         NaN         NaN         NaN"
      ]
     },
     "execution_count": 5,
     "metadata": {},
     "output_type": "execute_result"
    }
   ],
   "source": [
    "esrl = pd.read_csv('/data/artemis/observations/ESRL/ESRL_global_xCO2.csv')\n",
    "esrl.head()"
   ]
  },
  {
   "cell_type": "code",
   "execution_count": 6,
   "id": "8b04603b-102b-46bc-827c-3c39b7402440",
   "metadata": {},
   "outputs": [],
   "source": [
    "esrl_dates = pd.date_range(start=\"01-01-1980\",end=\"12-31-2020\",freq='MS') + np.timedelta64(14, 'D')\n",
    "ml_dates = pd.date_range(start=\"03-01-1958\",end=\"8-31-2021\",freq='MS') + np.timedelta64(14, 'D')"
   ]
  },
  {
   "cell_type": "code",
   "execution_count": 7,
   "id": "e0fdadfd-8b2d-4d79-8ee0-77b5996a9a66",
   "metadata": {},
   "outputs": [],
   "source": [
    "# Create xarrays:\n",
    "esrl_xr = xr.Dataset({\n",
    "                        'xco2':([\"time\"],esrl['xCO2'])},\n",
    "                        coords={'time': (['time'],esrl_dates)})\n",
    "\n",
    "mauna_xr = xr.Dataset({\n",
    "                        'xco2':([\"time\"],mauna['mean'])},\n",
    "                        coords={'time': (['time'],ml_dates)})"
   ]
  },
  {
   "cell_type": "code",
   "execution_count": 8,
   "id": "84369614-a1bd-44a4-a556-e75378eadd4d",
   "metadata": {},
   "outputs": [],
   "source": [
    "# Get monthly means of the differences:\n",
    "\n",
    "diff_cycle = (mauna_xr.xco2.sel(time=slice(\"01-01-1980\",\"12-31-2020\")) - esrl_xr.xco2.sel(time=slice(\"01-01-1980\",\"12-31-2020\"))).groupby(\"time.month\").mean(\"time\")"
   ]
  },
  {
   "cell_type": "code",
   "execution_count": 9,
   "id": "e8356237-7bbf-4553-b6f5-da0c0c2525bf",
   "metadata": {},
   "outputs": [
    {
     "data": {
      "text/plain": [
       "Text(0.5,1,'Mauna - ESRL Mean Cycle')"
      ]
     },
     "execution_count": 9,
     "metadata": {},
     "output_type": "execute_result"
    },
    {
     "data": {
      "image/png": "[encoded data removed]",
      "text/plain": [
       "<Figure size 288x144 with 1 Axes>"
      ]
     },
     "metadata": {
      "needs_background": "light"
     },
     "output_type": "display_data"
    }
   ],
   "source": [
    "fig = plt.figure(figsize=(4,2))\n",
    "plt.plot(diff_cycle)\n",
    "plt.xticks(np.linspace(0,11,12),[\"J\",\"F\",\"M\",\"A\",\"M\",\"J\",\"J\",\"A\",\"S\",\"O\",\"N\",\"D\"])\n",
    "plt.xlim(0,11)\n",
    "plt.grid(True)\n",
    "plt.title(\"Mauna - ESRL Mean Cycle\")"
   ]
  },
  {
   "cell_type": "markdown",
   "id": "d1e941e6-ab73-4b56-bfd8-221c5482d03d",
   "metadata": {},
   "source": [
    "## Use Mean Cycle of Difference to extrapolate to global xCO2 back in time"
   ]
  },
  {
   "cell_type": "code",
   "execution_count": 10,
   "id": "121a191f-fff0-46be-ac89-515d248494ee",
   "metadata": {},
   "outputs": [],
   "source": [
    "global_xco2 = np.empty(shape=((2020-1959+1)*12))"
   ]
  },
  {
   "cell_type": "code",
   "execution_count": 11,
   "id": "3de42205-9e60-4b5b-b40f-1fa7918d7639",
   "metadata": {},
   "outputs": [],
   "source": [
    "# Have years 1980 - present directly from ESRL\n",
    "# Just use offset for prior to 1980\n",
    "\n",
    "for yr in range(1959,1980):\n",
    "    global_xco2[(yr-1959)*12:(yr-1958)*12] = mauna_xr.xco2.sel(time=slice(f\"01-01-{yr}\",f\"12-31-{yr}\")).values - diff_cycle.values\n",
    "\n",
    "global_xco2[(1980-1959)*12:(2020-1958)*12] = esrl_xr.xco2.values"
   ]
  },
  {
   "cell_type": "code",
   "execution_count": 40,
   "id": "a6199c10-7635-40fa-a441-af04c46ba59c",
   "metadata": {},
   "outputs": [
    {
     "data": {
      "text/plain": [
       "(715159.0, 737774.0)"
      ]
     },
     "execution_count": 40,
     "metadata": {},
     "output_type": "execute_result"
    },
    {
     "data": {
      "image/png": "[encoded data removed]",
      "text/plain": [
       "<Figure size 576x324 with 1 Axes>"
      ]
     },
     "metadata": {
      "needs_background": "light"
     },
     "output_type": "display_data"
    }
   ],
   "source": [
    "global_dates = pd.date_range(start=\"01-01-1959\",end=\"12-31-2020\",freq='MS') + np.timedelta64(14, 'D')\n",
    "\n",
    "fig = plt.figure(figsize=(8,4.5))\n",
    "plt.plot(global_dates.values,global_xco2,'blue',label='Combined')\n",
    "plt.plot(mauna_xr.time,mauna_xr.xco2,color='red',label=\"Mauna Loa\")\n",
    "plt.plot(esrl_xr.time,esrl_xr.xco2,color='black',label=\"ESRL\")\n",
    "plt.grid(True)\n",
    "plt.title(\"Global xCO2\")\n",
    "plt.ylabel(\"ppm\")\n",
    "plt.legend()\n",
    "plt.xlim(min(global_dates.values),max(global_dates.values))"
   ]
  },
  {
   "cell_type": "code",
   "execution_count": 60,
   "id": "645e0ec0-cd9b-4d09-876c-86e239c5ba2f",
   "metadata": {},
   "outputs": [],
   "source": [
    "# Write to File\n",
    "global_xco2_xr = xr.Dataset({\n",
    "                        'xco2':([\"time\"],global_xco2),\n",
    "                        'diff_cycle':([\"month\"],diff_cycle.values)},\n",
    "                        coords={'time': (['time'],global_dates)})\n",
    "\n",
    "global_xco2_xr['xco2'].attrs['units'] = \"ppm\"\n",
    "global_xco2_xr['diff_cycle'].attrs['more info'] = \"Mean seasonal cycle of (Mauna Loa - ESRL) for 1980-2020\"\n",
    "global_xco2_xr['diff_cycle'].attrs['units'] = \"ppm\"\n",
    "global_xco2_xr.attrs['more_info'] = \"Prior to 1980, Global xCO2 estimated by Mauna Loa + Mean Seasonal Cycle of difference between Mauna Loa and ESRL for 1980-2020. After 1979, ESRL is used\"\n",
    "global_xco2_xr.attrs['created_by'] = \"Val Bennington, Mauna_ESRL.ipynb\"     \n",
    "global_xco2_xr.to_netcdf(\"/data/artemis/observations/ESRL/global_xco2_1959-2020.nc\")"
   ]
  },
  {
   "cell_type": "code",
   "execution_count": 51,
   "id": "c6192c7d-bfd7-4c26-9c2d-a01fff17afbf",
   "metadata": {},
   "outputs": [
    {
     "data": {
      "text/plain": [
       "Text(0.5,1,'1980 xCO2')"
      ]
     },
     "execution_count": 51,
     "metadata": {},
     "output_type": "execute_result"
    },
    {
     "data": {
      "image/png": "[encoded data removed]",
      "text/plain": [
       "<Figure size 432x288 with 1 Axes>"
      ]
     },
     "metadata": {
      "needs_background": "light"
     },
     "output_type": "display_data"
    }
   ],
   "source": [
    "fig = plt.figure()\n",
    "plt.plot(mauna_xr.xco2.sel(time=slice(\"01-01-1985\",\"12-31-1985\")).values,'b--',label=\"Mauna Loa\")\n",
    "plt.plot(esrl_xr.xco2.sel(time=slice(\"01-01-1985\",\"12-31-1985\")).values,'blue',label=\"ESRL\")\n",
    "plt.plot(mauna_xr.xco2.sel(time=slice(\"01-01-1980\",\"12-31-1980\")).values,'r--',label=\"Mauna Loa\")\n",
    "plt.plot(esrl_xr.xco2.sel(time=slice(\"01-01-1980\",\"12-31-1980\")).values,'red',label=\"ESRL\")\n",
    "plt.xticks(np.linspace(0,11,12),[\"J\",\"F\",\"M\",\"A\",\"M\",\"J\",\"J\",\"A\",\"S\",\"O\",\"N\",\"D\"])\n",
    "plt.xlim(0,11)\n",
    "plt.grid(True)\n",
    "plt.legend()\n",
    "plt.title(\"1980 xCO2\")"
   ]
  },
  {
   "cell_type": "markdown",
   "id": "53e8836a-d638-4a93-a846-c7cd32f5aa56",
   "metadata": {},
   "source": [
    "## Create mapped pCO2 from timeseries of xCO2"
   ]
  },
  {
   "cell_type": "code",
   "execution_count": 15,
   "id": "2dc3b4ec-36c7-426f-9721-8dc5bae6f49a",
   "metadata": {},
   "outputs": [],
   "source": [
    "def calc_pco2_from_xco2(xco2,pres,T,S):\n",
    "    \n",
    "    import math\n",
    "#test:\n",
    "#% xco2=378.16;\n",
    "#% pres=1018.02;\n",
    "#% T=15;\n",
    "#% S=35;\n",
    "\n",
    "\n",
    "    #calculate pressure at 100% humidity\n",
    "    a1 = -7.85951783\n",
    "    a2 = 1.84408259\n",
    "    a4 = 22.6807411\n",
    "    a5 = -15.9618719\n",
    "    a3 = -11.7866497\n",
    "    a6 = 1.80122502\n",
    "    \n",
    "    Tc = 647.096;\n",
    "    pc = 22064000;\n",
    "    T=T+273.15;\n",
    "\n",
    "    Phi=(1-(T/Tc));\n",
    "    lnform=(Tc/T)*(a1*Phi+a2*Phi**(1.5)+a3*Phi**3+a4*Phi**(3.5)+a5*Phi**(4)+a6*Phi**(7.5));\n",
    "    Psig = 2.71828**(lnform)*pc\n",
    "\n",
    "    molarity=(31.998*S)/(10**3-1.005*S);\n",
    "    Psi=0.90799-0.08992*(0.5*molarity)+0.18458*(0.5*molarity)**2-0.07395*(0.5*molarity)**3-0.00221*(0.5*molarity)**4;\n",
    "    Psigcor = Psig*2.71828**(-0.018*Psi*molarity)\n",
    "\n",
    "    # convert pressure from hPa to Pascal\n",
    "    pres=pres*100;\n",
    "\n",
    "    # calculate pCO2 wet in Pa\n",
    "    pco2_Pa= (xco2*10**-6)*(pres-Psigcor);\n",
    "\n",
    "    # and convert into muatm\n",
    "    pco2=pco2_Pa*9.8692326671601E-6*10**6;\n",
    "\n",
    "    return pco2"
   ]
  },
  {
   "cell_type": "code",
   "execution_count": 17,
   "id": "6bc3328f-4c95-4eed-a0d3-5c1a93f3aeac",
   "metadata": {},
   "outputs": [],
   "source": [
    "# Grab appropriate SST, SSS, and SLP:\n",
    "\n",
    "# NOAA ERSST:\n",
    "SST = xr.open_dataset(\"/data/artemis/observations/NOAA_ERSST/NOAA_ERSST_1x1_mon_Jan1854-Feb2020.nc\")\n",
    "sst = SST.sst.sel(time=slice(\"01-01-1959\",\"12-31-2019\"))\n",
    "\n",
    "# EN4.2.1 Salinity:\n",
    "SSS = xr.open_dataset(f\"/data/artemis/workspace/vbennington/EN421_salinity/processed/sss_1x1_mon_EN421_195801-202011.nc\").sss\n",
    "sss = SSS.sel(time=slice(\"01-01-1959\",\"12-31-2019\"))\n",
    "\n",
    "# SLP from ERA5:\n",
    "era5 = xr.open_dataset('/data/artemis/observations/ERA5/processed/ERA5_MSLP_WS10_1x1_mon_1958-2020.nc')\n",
    "era5 = era5.sel(time=slice(\"01-01-1959\",\"12-31-2019\"))\n",
    "era5 = era5.rename({\"ylat\":\"lat\",\"xlon\":\"lon\"})\n",
    "slp = era5.mslp / 100 # Pascals to hPa\n"
   ]
  },
  {
   "cell_type": "code",
   "execution_count": 18,
   "id": "9ce82341-e7fe-4cf4-8e41-26dfd3fe1070",
   "metadata": {},
   "outputs": [],
   "source": [
    "xco2 = xr.open_dataset(\"/data/artemis/observations/ESRL/global_xco2_1959-2020.nc\").xco2.sel(time=slice(\"01-01-1959\",\"12-31-2019\"))\n",
    "sst['time'] = xco2['time']\n",
    "sss['time'] = xco2['time']\n",
    "slp['time'] = xco2['time']"
   ]
  },
  {
   "cell_type": "code",
   "execution_count": 19,
   "id": "955d28c7-f128-4f66-ae08-c4f607225676",
   "metadata": {},
   "outputs": [],
   "source": [
    "pco2 = calc_pco2_from_xco2(xco2,slp,sst,sss)"
   ]
  },
  {
   "cell_type": "code",
   "execution_count": 41,
   "id": "26c67cf8-f443-46f4-a478-0a01afc41aba",
   "metadata": {},
   "outputs": [],
   "source": [
    "mauna_pco2 = calc_pco2_from_xco2(mauna_xr.xco2.sel(time=slice(\"01-01-1959\",\"12-31-2019\")),slp,sst,sss)"
   ]
  },
  {
   "cell_type": "code",
   "execution_count": 43,
   "id": "b8832faf-b32f-4972-9965-b0d1aad68ded",
   "metadata": {},
   "outputs": [
    {
     "data": {
      "text/plain": [
       "Text(0.5,1,'Water Vapor Corrected pCO2')"
      ]
     },
     "execution_count": 43,
     "metadata": {},
     "output_type": "execute_result"
    },
    {
     "data": {
      "image/png": "[encoded data removed]",
      "text/plain": [
       "<Figure size 432x216 with 1 Axes>"
      ]
     },
     "metadata": {
      "needs_background": "light"
     },
     "output_type": "display_data"
    }
   ],
   "source": [
    "fig = plt.figure(figsize=(6,3))\n",
    "plt.plot(xco2.time,mauna_pco2.mean(['lat','lon']),'red')\n",
    "plt.plot(xco2.time,pco2.mean(['lat','lon']),'blue')\n",
    "plt.grid(True)\n",
    "plt.title(\"Water Vapor Corrected pCO2\")"
   ]
  },
  {
   "cell_type": "code",
   "execution_count": 108,
   "id": "d926f565-0d9d-468c-a057-a6f3a97bc5d3",
   "metadata": {},
   "outputs": [
    {
     "data": {
      "text/plain": [
       "Text(0.5,1,'Water Vapor Corrected pCO2')"
      ]
     },
     "execution_count": 108,
     "metadata": {},
     "output_type": "execute_result"
    },
    {
     "data": {
      "image/png": "[encoded data removed]",
      "text/plain": [
       "<Figure size 432x216 with 2 Axes>"
      ]
     },
     "metadata": {
      "needs_background": "light"
     },
     "output_type": "display_data"
    }
   ],
   "source": [
    "fig = plt.figure(figsize=(6,3))\n",
    "plt.contourf(sst.lon,sst.lat,pco2.mean('time'))\n",
    "plt.colorbar()\n",
    "plt.grid(True)\n",
    "plt.title(\"Water Vapor Corrected pCO2\")"
   ]
  },
  {
   "cell_type": "code",
   "execution_count": 46,
   "id": "1cb7fea7-07b4-4b7f-97a4-b863d77487fb",
   "metadata": {},
   "outputs": [],
   "source": [
    "# Write to File\n",
    "global_pco2_xr = xr.Dataset({\n",
    "                        'pco2':([\"time\",\"lat\",\"lon\"],pco2),\n",
    "                        'mauna_loa_pco2':([\"time\",\"lat\",\"lon\"],mauna_pco2)},\n",
    "                        coords={'time': (['time'],xco2.time.values),\n",
    "                               'lat':(['lat'],sst.lat.values),\n",
    "                               'lon':(['lon'],sst.lon.values)})\n",
    "\n",
    "global_pco2_xr['pco2'].attrs['units'] = \"micro atm\"\n",
    "global_pco2_xr['pco2'].attrs['more info'] = \"Water Vapor Corrected pCO2 using joined Mauna Loa (prior to 1980) and ESRL\"\n",
    "global_pco2_xr['mauna_loa_pco2'].attrs['units'] = \"micro atm\"\n",
    "global_pco2_xr['mauna_loa_pco2'].attrs['more info'] = \"Water Vapor Corrected pCO2 using joined Mauna Loa entire time\"\n",
    "global_pco2_xr.attrs['more_info'] = \"Prior to 1980, Global xCO2 estimated by Mauna Loa + Mean Seasonal Cycle of difference between Mauna Loa and ESRL for 1980-2019. After 1979, ESRL is used\"\n",
    "global_pco2_xr.attrs['description'] = \"NOAA ERSST, EN4.2.1 SSS, ERA5 SLP used to get water vapor correction\"\n",
    "global_pco2_xr.attrs['created_by'] = \"Val Bennington, Mauna_ESRL.ipynb\"     \n",
    "global_pco2_xr.to_netcdf(\"/data/artemis/observations/ESRL/global_pco2_1959-2019.nc\")"
   ]
  },
  {
   "cell_type": "code",
   "execution_count": null,
   "id": "4b1061f1-4f32-4386-a136-f75c5a7cd9d0",
   "metadata": {},
   "outputs": [],
   "source": []
  }
 ],
 "metadata": {
  "kernelspec": {
   "display_name": "EOF Test2",
   "language": "python",
   "name": "dev2"
  },
  "language_info": {
   "codemirror_mode": {
    "name": "ipython",
    "version": 3
   },
   "file_extension": ".py",
   "mimetype": "text/x-python",
   "name": "python",
   "nbconvert_exporter": "python",
   "pygments_lexer": "ipython3",
   "version": "3.6.7"
  }
 },
 "nbformat": 4,
 "nbformat_minor": 5
}
